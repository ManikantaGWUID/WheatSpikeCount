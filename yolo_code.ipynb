{
  "nbformat": 4,
  "nbformat_minor": 0,
  "metadata": {
    "colab": {
      "provenance": [],
      "gpuType": "T4"
    },
    "kernelspec": {
      "name": "python3",
      "display_name": "Python 3"
    },
    "language_info": {
      "name": "python"
    },
    "accelerator": "GPU"
  },
  "cells": [
    {
      "cell_type": "code",
      "execution_count": 1,
      "metadata": {
        "colab": {
          "base_uri": "https://localhost:8080/"
        },
        "id": "OPemSuvZoNYo",
        "outputId": "734aa6e8-b686-4d7c-869c-e64813adda33"
      },
      "outputs": [
        {
          "output_type": "stream",
          "name": "stdout",
          "text": [
            "loading Roboflow workspace...\n",
            "loading Roboflow project...\n"
          ]
        },
        {
          "output_type": "stream",
          "name": "stderr",
          "text": [
            "WARNING ⚠️ Ultralytics settings reset to default values. This may be due to a possible problem with your settings or a recent ultralytics package update. \n",
            "View settings with 'yolo settings' or at '/root/.config/Ultralytics/settings.yaml'\n",
            "Update settings with 'yolo settings key=value', i.e. 'yolo settings runs_dir=path/to/dir'.\n"
          ]
        }
      ],
      "source": [
        "from roboflow import Roboflow\n",
        "rf = Roboflow(api_key=\"87lYBLXNFplBDHsU3BY5\")\n",
        "project = rf.workspace(\"manikantaallanki\").project(\"wheatspikedetection\")\n",
        "version = project.version(1)\n",
        "dataset = version.download(\"yolov8\")"
      ]
    },
    {
      "cell_type": "code",
      "source": [
        "dataset.version"
      ],
      "metadata": {
        "colab": {
          "base_uri": "https://localhost:8080/",
          "height": 35
        },
        "id": "Y2mlauABr_qt",
        "outputId": "32ca88f7-9de5-45d9-8daf-2c0e0b6d19d2"
      },
      "execution_count": 2,
      "outputs": [
        {
          "output_type": "execute_result",
          "data": {
            "text/plain": [
              "'1'"
            ],
            "application/vnd.google.colaboratory.intrinsic+json": {
              "type": "string"
            }
          },
          "metadata": {},
          "execution_count": 2
        }
      ]
    },
    {
      "cell_type": "code",
      "source": [
        "import os\n",
        "HOME = os.getcwd()\n",
        "print(HOME)"
      ],
      "metadata": {
        "colab": {
          "base_uri": "https://localhost:8080/"
        },
        "id": "Rvf-7iPqt2uC",
        "outputId": "822e6d41-5ae5-4c4e-f227-ae4ef973cd85"
      },
      "execution_count": 4,
      "outputs": [
        {
          "output_type": "stream",
          "name": "stdout",
          "text": [
            "/content\n"
          ]
        }
      ]
    },
    {
      "cell_type": "code",
      "source": [
        "%cd {HOME}\n"
      ],
      "metadata": {
        "colab": {
          "base_uri": "https://localhost:8080/"
        },
        "id": "6t6ppNGkt2qX",
        "outputId": "6bdff123-f1ee-4fe5-e3b3-7d034a542a98"
      },
      "execution_count": 5,
      "outputs": [
        {
          "output_type": "stream",
          "name": "stdout",
          "text": [
            "/content\n"
          ]
        }
      ]
    },
    {
      "cell_type": "code",
      "source": [
        "!yolo task=detect mode=train model=yolov8s.pt data={dataset.location}/data.yaml epochs=10 imgsz=640 plots=True"
      ],
      "metadata": {
        "colab": {
          "base_uri": "https://localhost:8080/"
        },
        "id": "3ut5qgmUt2kf",
        "outputId": "7803bc6b-1345-46fc-d71f-a840284ef443"
      },
      "execution_count": 6,
      "outputs": [
        {
          "output_type": "stream",
          "name": "stdout",
          "text": [
            "New https://pypi.org/project/ultralytics/8.2.14 available 😃 Update with 'pip install -U ultralytics'\n",
            "Ultralytics YOLOv8.0.196 🚀 Python-3.10.12 torch-2.2.1+cu121 CUDA:0 (Tesla T4, 15102MiB)\n",
            "\u001b[34m\u001b[1mengine/trainer: \u001b[0mtask=detect, mode=train, model=yolov8s.pt, data=/content/wheatspikedetection-1/data.yaml, epochs=10, patience=50, batch=16, imgsz=640, save=True, save_period=-1, cache=False, device=None, workers=8, project=None, name=None, exist_ok=False, pretrained=True, optimizer=auto, verbose=True, seed=0, deterministic=True, single_cls=False, rect=False, cos_lr=False, close_mosaic=10, resume=False, amp=True, fraction=1.0, profile=False, freeze=None, overlap_mask=True, mask_ratio=4, dropout=0.0, val=True, split=val, save_json=False, save_hybrid=False, conf=None, iou=0.7, max_det=300, half=False, dnn=False, plots=True, source=None, show=False, save_txt=False, save_conf=False, save_crop=False, show_labels=True, show_conf=True, vid_stride=1, stream_buffer=False, line_width=None, visualize=False, augment=False, agnostic_nms=False, classes=None, retina_masks=False, boxes=True, format=torchscript, keras=False, optimize=False, int8=False, dynamic=False, simplify=False, opset=None, workspace=4, nms=False, lr0=0.01, lrf=0.01, momentum=0.937, weight_decay=0.0005, warmup_epochs=3.0, warmup_momentum=0.8, warmup_bias_lr=0.1, box=7.5, cls=0.5, dfl=1.5, pose=12.0, kobj=1.0, label_smoothing=0.0, nbs=64, hsv_h=0.015, hsv_s=0.7, hsv_v=0.4, degrees=0.0, translate=0.1, scale=0.5, shear=0.0, perspective=0.0, flipud=0.0, fliplr=0.5, mosaic=1.0, mixup=0.0, copy_paste=0.0, cfg=None, tracker=botsort.yaml, save_dir=runs/detect/train3\n",
            "2024-05-13 17:03:06.131657: E external/local_xla/xla/stream_executor/cuda/cuda_dnn.cc:9261] Unable to register cuDNN factory: Attempting to register factory for plugin cuDNN when one has already been registered\n",
            "2024-05-13 17:03:06.131724: E external/local_xla/xla/stream_executor/cuda/cuda_fft.cc:607] Unable to register cuFFT factory: Attempting to register factory for plugin cuFFT when one has already been registered\n",
            "2024-05-13 17:03:06.133174: E external/local_xla/xla/stream_executor/cuda/cuda_blas.cc:1515] Unable to register cuBLAS factory: Attempting to register factory for plugin cuBLAS when one has already been registered\n",
            "Overriding model.yaml nc=80 with nc=1\n",
            "\n",
            "                   from  n    params  module                                       arguments                     \n",
            "  0                  -1  1       928  ultralytics.nn.modules.conv.Conv             [3, 32, 3, 2]                 \n",
            "  1                  -1  1     18560  ultralytics.nn.modules.conv.Conv             [32, 64, 3, 2]                \n",
            "  2                  -1  1     29056  ultralytics.nn.modules.block.C2f             [64, 64, 1, True]             \n",
            "  3                  -1  1     73984  ultralytics.nn.modules.conv.Conv             [64, 128, 3, 2]               \n",
            "  4                  -1  2    197632  ultralytics.nn.modules.block.C2f             [128, 128, 2, True]           \n",
            "  5                  -1  1    295424  ultralytics.nn.modules.conv.Conv             [128, 256, 3, 2]              \n",
            "  6                  -1  2    788480  ultralytics.nn.modules.block.C2f             [256, 256, 2, True]           \n",
            "  7                  -1  1   1180672  ultralytics.nn.modules.conv.Conv             [256, 512, 3, 2]              \n",
            "  8                  -1  1   1838080  ultralytics.nn.modules.block.C2f             [512, 512, 1, True]           \n",
            "  9                  -1  1    656896  ultralytics.nn.modules.block.SPPF            [512, 512, 5]                 \n",
            " 10                  -1  1         0  torch.nn.modules.upsampling.Upsample         [None, 2, 'nearest']          \n",
            " 11             [-1, 6]  1         0  ultralytics.nn.modules.conv.Concat           [1]                           \n",
            " 12                  -1  1    591360  ultralytics.nn.modules.block.C2f             [768, 256, 1]                 \n",
            " 13                  -1  1         0  torch.nn.modules.upsampling.Upsample         [None, 2, 'nearest']          \n",
            " 14             [-1, 4]  1         0  ultralytics.nn.modules.conv.Concat           [1]                           \n",
            " 15                  -1  1    148224  ultralytics.nn.modules.block.C2f             [384, 128, 1]                 \n",
            " 16                  -1  1    147712  ultralytics.nn.modules.conv.Conv             [128, 128, 3, 2]              \n",
            " 17            [-1, 12]  1         0  ultralytics.nn.modules.conv.Concat           [1]                           \n",
            " 18                  -1  1    493056  ultralytics.nn.modules.block.C2f             [384, 256, 1]                 \n",
            " 19                  -1  1    590336  ultralytics.nn.modules.conv.Conv             [256, 256, 3, 2]              \n",
            " 20             [-1, 9]  1         0  ultralytics.nn.modules.conv.Concat           [1]                           \n",
            " 21                  -1  1   1969152  ultralytics.nn.modules.block.C2f             [768, 512, 1]                 \n",
            " 22        [15, 18, 21]  1   2116435  ultralytics.nn.modules.head.Detect           [1, [128, 256, 512]]          \n",
            "Model summary: 225 layers, 11135987 parameters, 11135971 gradients, 28.6 GFLOPs\n",
            "\n",
            "Transferred 349/355 items from pretrained weights\n",
            "\u001b[34m\u001b[1mTensorBoard: \u001b[0mStart with 'tensorboard --logdir runs/detect/train3', view at http://localhost:6006/\n",
            "Freezing layer 'model.22.dfl.conv.weight'\n",
            "\u001b[34m\u001b[1mAMP: \u001b[0mrunning Automatic Mixed Precision (AMP) checks with YOLOv8n...\n",
            "\u001b[34m\u001b[1mAMP: \u001b[0mchecks passed ✅\n",
            "\u001b[34m\u001b[1mtrain: \u001b[0mScanning /content/wheatspikedetection-1/train/labels.cache... 2325 images, 1 backgrounds, 0 corrupt: 100% 2325/2325 [00:00<?, ?it/s]\n",
            "\u001b[34m\u001b[1malbumentations: \u001b[0mBlur(p=0.01, blur_limit=(3, 7)), MedianBlur(p=0.01, blur_limit=(3, 7)), ToGray(p=0.01), CLAHE(p=0.01, clip_limit=(1, 4.0), tile_grid_size=(8, 8))\n",
            "/usr/lib/python3.10/multiprocessing/popen_fork.py:66: RuntimeWarning: os.fork() was called. os.fork() is incompatible with multithreaded code, and JAX is multithreaded, so this will likely lead to a deadlock.\n",
            "  self.pid = os.fork()\n",
            "\u001b[34m\u001b[1mval: \u001b[0mScanning /content/wheatspikedetection-1/valid/labels.cache... 712 images, 0 backgrounds, 0 corrupt: 100% 712/712 [00:00<?, ?it/s]\n",
            "Plotting labels to runs/detect/train3/labels.jpg... \n",
            "\u001b[34m\u001b[1moptimizer:\u001b[0m 'optimizer=auto' found, ignoring 'lr0=0.01' and 'momentum=0.937' and determining best 'optimizer', 'lr0' and 'momentum' automatically... \n",
            "\u001b[34m\u001b[1moptimizer:\u001b[0m AdamW(lr=0.002, momentum=0.9) with parameter groups 57 weight(decay=0.0), 64 weight(decay=0.0005), 63 bias(decay=0.0)\n",
            "Image sizes 640 train, 640 val\n",
            "Using 2 dataloader workers\n",
            "Logging results to \u001b[1mruns/detect/train3\u001b[0m\n",
            "Starting training for 10 epochs...\n",
            "Closing dataloader mosaic\n",
            "\u001b[34m\u001b[1malbumentations: \u001b[0mBlur(p=0.01, blur_limit=(3, 7)), MedianBlur(p=0.01, blur_limit=(3, 7)), ToGray(p=0.01), CLAHE(p=0.01, clip_limit=(1, 4.0), tile_grid_size=(8, 8))\n",
            "/usr/lib/python3.10/multiprocessing/popen_fork.py:66: RuntimeWarning: os.fork() was called. os.fork() is incompatible with multithreaded code, and JAX is multithreaded, so this will likely lead to a deadlock.\n",
            "  self.pid = os.fork()\n",
            "\n",
            "      Epoch    GPU_mem   box_loss   cls_loss   dfl_loss  Instances       Size\n",
            "       1/10      5.09G      1.854      1.289      1.418        255        640: 100% 146/146 [01:25<00:00,  1.71it/s]\n",
            "                 Class     Images  Instances      Box(P          R      mAP50  mAP50-95): 100% 23/23 [00:13<00:00,  1.65it/s]\n",
            "                   all        712      30938      0.864      0.798      0.878      0.463\n",
            "\n",
            "      Epoch    GPU_mem   box_loss   cls_loss   dfl_loss  Instances       Size\n",
            "       2/10      4.85G      1.705      0.914      1.307        218        640: 100% 146/146 [01:06<00:00,  2.19it/s]\n",
            "                 Class     Images  Instances      Box(P          R      mAP50  mAP50-95): 100% 23/23 [00:17<00:00,  1.32it/s]\n",
            "                   all        712      30938      0.868      0.825      0.893      0.468\n",
            "\n",
            "      Epoch    GPU_mem   box_loss   cls_loss   dfl_loss  Instances       Size\n",
            "       3/10      5.19G      1.668     0.8613      1.288        164        640: 100% 146/146 [01:11<00:00,  2.05it/s]\n",
            "                 Class     Images  Instances      Box(P          R      mAP50  mAP50-95): 100% 23/23 [00:10<00:00,  2.25it/s]\n",
            "                   all        712      30938      0.874      0.806      0.883      0.462\n",
            "\n",
            "      Epoch    GPU_mem   box_loss   cls_loss   dfl_loss  Instances       Size\n",
            "       4/10      5.45G      1.657     0.8429      1.275        184        640: 100% 146/146 [01:09<00:00,  2.09it/s]\n",
            "                 Class     Images  Instances      Box(P          R      mAP50  mAP50-95): 100% 23/23 [00:13<00:00,  1.77it/s]\n",
            "                   all        712      30938      0.879      0.842      0.909      0.503\n",
            "\n",
            "      Epoch    GPU_mem   box_loss   cls_loss   dfl_loss  Instances       Size\n",
            "       5/10      5.22G      1.635     0.8179      1.277        166        640: 100% 146/146 [01:06<00:00,  2.19it/s]\n",
            "                 Class     Images  Instances      Box(P          R      mAP50  mAP50-95): 100% 23/23 [00:14<00:00,  1.63it/s]\n",
            "                   all        712      30938      0.898      0.859       0.92      0.509\n",
            "\n",
            "      Epoch    GPU_mem   box_loss   cls_loss   dfl_loss  Instances       Size\n",
            "       6/10      5.53G      1.614     0.7904      1.257        237        640: 100% 146/146 [01:11<00:00,  2.05it/s]\n",
            "                 Class     Images  Instances      Box(P          R      mAP50  mAP50-95): 100% 23/23 [00:13<00:00,  1.75it/s]\n",
            "                   all        712      30938      0.901      0.862      0.926      0.522\n",
            "\n",
            "      Epoch    GPU_mem   box_loss   cls_loss   dfl_loss  Instances       Size\n",
            "       7/10      4.78G      1.583     0.7648      1.253        229        640: 100% 146/146 [01:10<00:00,  2.07it/s]\n",
            "                 Class     Images  Instances      Box(P          R      mAP50  mAP50-95): 100% 23/23 [00:10<00:00,  2.23it/s]\n",
            "                   all        712      30938      0.907      0.868      0.931       0.53\n",
            "\n",
            "      Epoch    GPU_mem   box_loss   cls_loss   dfl_loss  Instances       Size\n",
            "       8/10      5.11G      1.568     0.7453      1.239        140        640: 100% 146/146 [01:10<00:00,  2.07it/s]\n",
            "                 Class     Images  Instances      Box(P          R      mAP50  mAP50-95): 100% 23/23 [00:12<00:00,  1.87it/s]\n",
            "                   all        712      30938      0.906      0.872      0.933      0.538\n",
            "\n",
            "      Epoch    GPU_mem   box_loss   cls_loss   dfl_loss  Instances       Size\n",
            "       9/10      5.23G      1.544     0.7195      1.233        235        640: 100% 146/146 [01:07<00:00,  2.18it/s]\n",
            "                 Class     Images  Instances      Box(P          R      mAP50  mAP50-95): 100% 23/23 [00:13<00:00,  1.74it/s]\n",
            "                   all        712      30938      0.909      0.881      0.937      0.544\n",
            "\n",
            "      Epoch    GPU_mem   box_loss   cls_loss   dfl_loss  Instances       Size\n",
            "      10/10      5.19G      1.525     0.7045      1.227        158        640: 100% 146/146 [01:11<00:00,  2.05it/s]\n",
            "                 Class     Images  Instances      Box(P          R      mAP50  mAP50-95): 100% 23/23 [00:12<00:00,  1.87it/s]\n",
            "                   all        712      30938      0.912      0.884      0.939      0.551\n",
            "\n",
            "10 epochs completed in 0.239 hours.\n",
            "Optimizer stripped from runs/detect/train3/weights/last.pt, 22.5MB\n",
            "Optimizer stripped from runs/detect/train3/weights/best.pt, 22.5MB\n",
            "\n",
            "Validating runs/detect/train3/weights/best.pt...\n",
            "Ultralytics YOLOv8.0.196 🚀 Python-3.10.12 torch-2.2.1+cu121 CUDA:0 (Tesla T4, 15102MiB)\n",
            "Model summary (fused): 168 layers, 11125971 parameters, 0 gradients, 28.4 GFLOPs\n",
            "                 Class     Images  Instances      Box(P          R      mAP50  mAP50-95): 100% 23/23 [00:49<00:00,  2.16s/it]\n",
            "                   all        712      30938      0.912      0.885      0.939      0.551\n",
            "Speed: 0.4ms preprocess, 4.8ms inference, 0.0ms loss, 4.4ms postprocess per image\n",
            "Results saved to \u001b[1mruns/detect/train3\u001b[0m\n",
            "💡 Learn more at https://docs.ultralytics.com/modes/train\n"
          ]
        }
      ]
    },
    {
      "cell_type": "code",
      "source": [
        "from google.colab import drive\n",
        "drive.mount('/content/drive')"
      ],
      "metadata": {
        "colab": {
          "base_uri": "https://localhost:8080/"
        },
        "id": "6xujRcyBFDlY",
        "outputId": "c92f9d7d-7972-47c0-b297-c963dade003f"
      },
      "execution_count": 15,
      "outputs": [
        {
          "output_type": "stream",
          "name": "stdout",
          "text": [
            "Mounted at /content/drive\n"
          ]
        }
      ]
    },
    {
      "cell_type": "code",
      "source": [
        "test = '/content/drive/MyDrive/ComputerVisionProject/real_test_images'"
      ],
      "metadata": {
        "id": "J11JATaJFT6q"
      },
      "execution_count": 18,
      "outputs": []
    },
    {
      "cell_type": "code",
      "source": [
        "import subprocess\n",
        "import re\n",
        "\n",
        "# Define your command\n",
        "command = 'yolo task=detect mode=predict model={}/runs/detect/train2/weights/best.pt conf=0.5 source={}'.format(HOME, test)\n",
        "\n",
        "# Run the command and capture output\n",
        "result = subprocess.run(command, shell=True, capture_output=True, text=True)\n",
        "\n",
        "# Print the full output (optional)\n",
        "print(result.stdout)\n",
        "\n",
        "# Parse the output to find the number of wheats detected per image\n",
        "wheat_counts = re.findall(r': \\d+x\\d+ (\\d+) wheats', result.stderr)\n",
        "\n",
        "# Convert counts to integers\n",
        "wheat_counts = [int(count) for count in wheat_counts]\n",
        "\n",
        "# Example usage: print the total number of wheats detected\n",
        "print(f'Total wheats detected: {sum(wheat_counts)}')\n",
        "\n",
        "# To see counts per image (optional)\n",
        "print(wheat_counts)\n"
      ],
      "metadata": {
        "colab": {
          "base_uri": "https://localhost:8080/"
        },
        "id": "mOYm2uj3t2aw",
        "outputId": "86504a78-cfe7-4cf0-97ea-af4ff07ebe57"
      },
      "execution_count": 19,
      "outputs": [
        {
          "output_type": "stream",
          "name": "stdout",
          "text": [
            "\n",
            "Total wheats detected: 38151\n",
            "[27, 44, 30, 16, 57, 10, 24, 65, 29, 70, 35, 31, 33, 39, 49, 48, 59, 12, 3, 59, 67, 30, 60, 17, 41, 68, 7, 48, 48, 64, 47, 28, 8, 38, 53, 51, 50, 24, 16, 52, 18, 57, 51, 37, 40, 21, 22, 10, 70, 16, 54, 13, 17, 47, 41, 4, 11, 60, 17, 75, 42, 15, 61, 26, 29, 47, 74, 21, 20, 68, 29, 68, 59, 6, 44, 61, 33, 30, 51, 43, 69, 66, 61, 49, 9, 34, 57, 43, 42, 24, 68, 40, 73, 24, 24, 56, 29, 24, 69, 25, 65, 35, 24, 10, 72, 16, 23, 28, 55, 60, 31, 49, 30, 23, 23, 53, 39, 54, 82, 21, 50, 71, 53, 14, 45, 14, 49, 55, 39, 26, 24, 37, 26, 48, 25, 48, 5, 79, 17, 7, 11, 47, 51, 73, 32, 31, 10, 37, 20, 13, 50, 18, 11, 61, 46, 36, 64, 52, 40, 12, 47, 31, 14, 9, 25, 2, 47, 21, 63, 31, 37, 30, 46, 31, 55, 31, 44, 18, 40, 40, 21, 4, 31, 20, 29, 56, 27, 40, 66, 41, 67, 47, 27, 44, 61, 16, 48, 15, 84, 68, 13, 62, 23, 53, 33, 31, 55, 41, 26, 74, 18, 16, 19, 48, 64, 81, 60, 42, 45, 61, 31, 9, 20, 60, 16, 60, 39, 21, 14, 54, 45, 8, 55, 37, 6, 6, 11, 13, 50, 23, 24, 10, 19, 27, 33, 52, 44, 32, 59, 49, 19, 33, 46, 31, 35, 23, 49, 24, 61, 69, 20, 5, 48, 52, 35, 17, 70, 73, 32, 70, 37, 24, 63, 28, 16, 29, 41, 17, 20, 33, 3, 64, 25, 5, 14, 10, 11, 40, 10, 43, 22, 29, 16, 43, 47, 45, 63, 28, 21, 29, 49, 12, 11, 41, 33, 60, 50, 57, 18, 10, 50, 35, 22, 54, 62, 37, 64, 24, 50, 29, 57, 13, 30, 43, 64, 19, 23, 55, 44, 23, 64, 29, 71, 32, 58, 31, 20, 25, 19, 37, 60, 3, 81, 72, 37, 50, 22, 25, 6, 65, 23, 55, 26, 60, 15, 35, 59, 5, 40, 41, 33, 31, 27, 36, 49, 24, 50, 45, 65, 34, 29, 45, 3, 7, 15, 51, 45, 56, 44, 65, 75, 2, 9, 9, 15, 30, 43, 45, 39, 65, 56, 42, 54, 50, 44, 57, 16, 38, 43, 17, 51, 11, 11, 48, 72, 11, 72, 58, 5, 21, 6, 50, 7, 26, 24, 26, 22, 57, 46, 68, 47, 58, 32, 7, 58, 34, 15, 74, 34, 15, 55, 30, 23, 22, 56, 21, 39, 21, 14, 5, 25, 10, 41, 10, 45, 19, 39, 11, 39, 60, 13, 50, 16, 52, 18, 54, 19, 28, 25, 59, 26, 49, 41, 37, 31, 24, 42, 13, 22, 69, 46, 23, 41, 14, 73, 55, 60, 55, 31, 31, 16, 21, 82, 59, 9, 66, 23, 35, 52, 54, 47, 40, 16, 54, 10, 38, 47, 12, 37, 19, 27, 11, 36, 61, 49, 55, 73, 10, 56, 46, 27, 18, 37, 54, 45, 38, 24, 21, 52, 61, 53, 50, 30, 50, 24, 33, 49, 47, 36, 41, 63, 58, 47, 35, 40, 22, 60, 63, 33, 21, 54, 42, 31, 68, 19, 14, 10, 22, 40, 67, 63, 43, 37, 74, 15, 57, 35, 57, 39, 11, 29, 57, 21, 19, 19, 15, 42, 33, 46, 48, 13, 32, 9, 36, 25, 34, 43, 73, 48, 47, 37, 24, 26, 49, 43, 27, 63, 73, 28, 26, 13, 15, 59, 38, 22, 25, 27, 26, 58, 25, 35, 47, 24, 59, 54, 24, 21, 40, 29, 54, 57, 16, 20, 36, 59, 13, 30, 38, 35, 32, 37, 12, 63, 66, 60, 59, 37, 21, 39, 68, 47, 63, 15, 12, 43, 24, 41, 6, 14, 61, 64, 7, 52, 14, 9, 6, 69, 28, 77, 7, 78, 78, 35, 36, 60, 44, 21, 19, 23, 17, 65, 67, 15, 8, 36, 40, 46, 12, 17, 33, 74, 33, 23, 53, 33, 40, 24, 15, 2, 21, 8, 53, 40, 26, 37, 22, 3, 32, 7, 34, 8, 75, 34, 36, 16, 32, 21, 32, 67, 31, 16, 49, 43, 17, 18, 28, 8, 40, 4, 29, 17, 37, 32, 45, 64, 61, 17, 62, 46, 13, 70, 10, 72, 76, 36, 68, 26, 17, 27, 46, 45, 15, 20, 27, 45, 10, 17, 9, 20, 23, 23, 11, 55, 58, 42, 48, 34, 46, 34, 4, 87, 69, 17, 13, 29, 10, 8, 26, 24, 49, 9, 25, 26, 27, 46, 9, 55, 20, 51, 57, 42, 16, 33, 24, 19, 57, 16, 20, 39, 31, 10, 19, 61, 20, 40, 24, 19, 33, 65, 67, 97, 53, 52, 64, 49, 16, 11, 60, 51, 64, 55, 16, 15, 19, 61, 78, 42, 22, 11, 56, 31, 31, 22, 12, 17, 7, 26, 65, 36, 39, 20, 44, 41, 66, 24, 33, 54, 40, 47, 21, 22, 69, 54, 45, 36, 21, 55, 36, 41, 43, 83, 42, 34, 23, 54, 63, 63, 34, 59, 27, 57, 37, 65, 48, 47, 55, 21, 28, 16, 33, 69, 60, 40, 43, 42, 2, 61, 57, 30, 44, 67, 46, 26, 14, 31, 15, 28, 31, 45, 40, 27, 23, 66, 56, 11, 5, 42, 35, 70, 10, 37, 35, 27, 48, 24, 45, 22, 39, 51, 27, 9, 14, 54, 45, 19, 35, 27, 40, 36, 15, 27, 21, 22, 68, 48, 17, 26, 37, 49, 55, 56, 19, 14, 70, 5, 62, 56, 34, 23, 14, 47, 8, 8, 18, 21, 24, 49, 27, 57, 23, 41, 55, 61, 27, 54, 32, 41, 21, 37, 25, 27, 33, 18, 16, 51, 58, 24, 2, 54, 41, 23, 63, 53, 50, 48, 73, 48, 46, 14, 10, 21, 66, 59, 36, 11, 15, 11, 16, 73, 32, 7, 25, 65, 62, 12, 21, 56, 40, 64, 56, 39, 13, 22, 30, 28, 40, 37, 23, 18, 33, 21, 17, 80, 32, 28, 54, 17, 68, 3, 32, 29, 11, 42, 49, 4, 48, 27, 73, 43, 29, 42, 81, 25, 54, 18, 57, 36, 22, 46, 37, 54, 78, 47, 46, 51, 29, 27, 25]\n"
          ]
        }
      ]
    },
    {
      "cell_type": "code",
      "source": [
        "import matplotlib.pyplot as plt\n",
        "image_indices = list(range(1, len(wheat_counts) + 1))\n",
        "\n",
        "# Plotting\n",
        "plt.figure(figsize=(10, 5))  # Set the figure size\n",
        "plt.bar(image_indices, wheat_counts, color='green')\n",
        "plt.xlabel('Image Index')\n",
        "plt.ylabel('Number of Wheat Spikes Detected')\n",
        "plt.title('Wheat Spike Detection Count per Image')\n",
        "plt.grid(True)\n",
        "plt.show()"
      ],
      "metadata": {
        "colab": {
          "base_uri": "https://localhost:8080/",
          "height": 487
        },
        "id": "oUXkLKXRHc2j",
        "outputId": "6056c40e-b11c-4b5a-ee43-5302b4aa934f"
      },
      "execution_count": 21,
      "outputs": [
        {
          "output_type": "display_data",
          "data": {
            "text/plain": [
              "<Figure size 1000x500 with 1 Axes>"
            ],
            "image/png": "[encoded data removed]"
          },
          "metadata": {}
        }
      ]
    },
    {
      "cell_type": "code",
      "source": [
        "\n",
        "# Plotting\n",
        "plt.figure(figsize=(10, 5))  # Set the figure size\n",
        "plt.hist(wheat_counts)\n",
        "plt.xlabel('Wheat count')\n",
        "plt.ylabel('frequency')\n",
        "plt.title('Wheat Spike Detection Histogram')\n",
        "plt.grid(True)\n",
        "plt.show()"
      ],
      "metadata": {
        "colab": {
          "base_uri": "https://localhost:8080/",
          "height": 487
        },
        "id": "2BpNssxMEQk0",
        "outputId": "5eb7a1e8-cad4-436d-f1ce-10ed2489fc25"
      },
      "execution_count": 22,
      "outputs": [
        {
          "output_type": "display_data",
          "data": {
            "text/plain": [
              "<Figure size 1000x500 with 1 Axes>"
            ],
            "image/png": "[encoded data removed]"
          },
          "metadata": {}
        }
      ]
    },
    {
      "cell_type": "code",
      "source": [
        "re.findall(r': \\d+x\\d+ (\\d+) wheats', result.stdout)"
      ],
      "metadata": {
        "colab": {
          "base_uri": "https://localhost:8080/"
        },
        "id": "Q2L9YwcWD5uU",
        "outputId": "4fbdcaa4-4b09-4f7f-a786-34af87026f84"
      },
      "execution_count": 10,
      "outputs": [
        {
          "output_type": "execute_result",
          "data": {
            "text/plain": [
              "[]"
            ]
          },
          "metadata": {},
          "execution_count": 10
        }
      ]
    },
    {
      "cell_type": "code",
      "source": [
        "!yolo task=detect \\mode=predict \\model={HOME}/runs/detect/train2/weights/best.pt \\conf=0.5 \\source={dataset.location}/test/images"
      ],
      "metadata": {
        "colab": {
          "base_uri": "https://localhost:8080/",
          "height": 1000
        },
        "id": "4DHS3VkY3b90",
        "outputId": "d3f6a864-fba8-4b1a-a97a-00feb92d8769"
      },
      "execution_count": 15,
      "outputs": [
        {
          "output_type": "stream",
          "name": "stdout",
          "text": [
            "Collecting ultralytics==8.0.196\n",
            "  Downloading ultralytics-8.0.196-py3-none-any.whl (631 kB)\n",
            "\u001b[?25l     \u001b[90m━━━━━━━━━━━━━━━━━━━━━━━━━━━━━━━━━━━━━━━━\u001b[0m \u001b[32m0.0/631.1 kB\u001b[0m \u001b[31m?\u001b[0m eta \u001b[36m-:--:--\u001b[0m\r\u001b[2K     \u001b[91m━━━━━━━━━━━━━━━━\u001b[0m\u001b[90m╺\u001b[0m\u001b[90m━━━━━━━━━━━━━━━━━━━━━━━\u001b[0m \u001b[32m256.0/631.1 kB\u001b[0m \u001b[31m7.5 MB/s\u001b[0m eta \u001b[36m0:00:01\u001b[0m\r\u001b[2K     \u001b[90m━━━━━━━━━━━━━━━━━━━━━━━━━━━━━━━━━━━━━━━━\u001b[0m \u001b[32m631.1/631.1 kB\u001b[0m \u001b[31m13.1 MB/s\u001b[0m eta \u001b[36m0:00:00\u001b[0m\n",
            "\u001b[?25hRequirement already satisfied: matplotlib>=3.3.0 in /usr/local/lib/python3.10/dist-packages (from ultralytics==8.0.196) (3.7.1)\n",
            "Requirement already satisfied: numpy>=1.22.2 in /usr/local/lib/python3.10/dist-packages (from ultralytics==8.0.196) (1.25.2)\n",
            "Requirement already satisfied: opencv-python>=4.6.0 in /usr/local/lib/python3.10/dist-packages (from ultralytics==8.0.196) (4.8.0.76)\n",
            "Requirement already satisfied: pillow>=7.1.2 in /usr/local/lib/python3.10/dist-packages (from ultralytics==8.0.196) (9.4.0)\n",
            "Requirement already satisfied: pyyaml>=5.3.1 in /usr/local/lib/python3.10/dist-packages (from ultralytics==8.0.196) (6.0.1)\n",
            "Requirement already satisfied: requests>=2.23.0 in /usr/local/lib/python3.10/dist-packages (from ultralytics==8.0.196) (2.31.0)\n",
            "Requirement already satisfied: scipy>=1.4.1 in /usr/local/lib/python3.10/dist-packages (from ultralytics==8.0.196) (1.11.4)\n",
            "Requirement already satisfied: torch>=1.8.0 in /usr/local/lib/python3.10/dist-packages (from ultralytics==8.0.196) (2.2.1+cu121)\n",
            "Requirement already satisfied: torchvision>=0.9.0 in /usr/local/lib/python3.10/dist-packages (from ultralytics==8.0.196) (0.17.1+cu121)\n",
            "Requirement already satisfied: tqdm>=4.64.0 in /usr/local/lib/python3.10/dist-packages (from ultralytics==8.0.196) (4.66.4)\n",
            "Requirement already satisfied: pandas>=1.1.4 in /usr/local/lib/python3.10/dist-packages (from ultralytics==8.0.196) (2.0.3)\n",
            "Requirement already satisfied: seaborn>=0.11.0 in /usr/local/lib/python3.10/dist-packages (from ultralytics==8.0.196) (0.13.1)\n",
            "Requirement already satisfied: psutil in /usr/local/lib/python3.10/dist-packages (from ultralytics==8.0.196) (5.9.5)\n",
            "Requirement already satisfied: py-cpuinfo in /usr/local/lib/python3.10/dist-packages (from ultralytics==8.0.196) (9.0.0)\n",
            "Requirement already satisfied: thop>=0.1.1 in /usr/local/lib/python3.10/dist-packages (from ultralytics==8.0.196) (0.1.1.post2209072238)\n",
            "Requirement already satisfied: contourpy>=1.0.1 in /usr/local/lib/python3.10/dist-packages (from matplotlib>=3.3.0->ultralytics==8.0.196) (1.2.1)\n",
            "Requirement already satisfied: cycler>=0.10 in /usr/local/lib/python3.10/dist-packages (from matplotlib>=3.3.0->ultralytics==8.0.196) (0.10.0)\n",
            "Requirement already satisfied: fonttools>=4.22.0 in /usr/local/lib/python3.10/dist-packages (from matplotlib>=3.3.0->ultralytics==8.0.196) (4.51.0)\n",
            "Requirement already satisfied: kiwisolver>=1.0.1 in /usr/local/lib/python3.10/dist-packages (from matplotlib>=3.3.0->ultralytics==8.0.196) (1.4.5)\n",
            "Requirement already satisfied: packaging>=20.0 in /usr/local/lib/python3.10/dist-packages (from matplotlib>=3.3.0->ultralytics==8.0.196) (24.0)\n",
            "Requirement already satisfied: pyparsing>=2.3.1 in /usr/local/lib/python3.10/dist-packages (from matplotlib>=3.3.0->ultralytics==8.0.196) (3.1.2)\n",
            "Requirement already satisfied: python-dateutil>=2.7 in /usr/local/lib/python3.10/dist-packages (from matplotlib>=3.3.0->ultralytics==8.0.196) (2.8.2)\n",
            "Requirement already satisfied: pytz>=2020.1 in /usr/local/lib/python3.10/dist-packages (from pandas>=1.1.4->ultralytics==8.0.196) (2023.4)\n",
            "Requirement already satisfied: tzdata>=2022.1 in /usr/local/lib/python3.10/dist-packages (from pandas>=1.1.4->ultralytics==8.0.196) (2024.1)\n",
            "Requirement already satisfied: charset-normalizer<4,>=2 in /usr/local/lib/python3.10/dist-packages (from requests>=2.23.0->ultralytics==8.0.196) (3.3.2)\n",
            "Requirement already satisfied: idna<4,>=2.5 in /usr/local/lib/python3.10/dist-packages (from requests>=2.23.0->ultralytics==8.0.196) (2.10)\n",
            "Requirement already satisfied: urllib3<3,>=1.21.1 in /usr/local/lib/python3.10/dist-packages (from requests>=2.23.0->ultralytics==8.0.196) (2.0.7)\n",
            "Requirement already satisfied: certifi>=2017.4.17 in /usr/local/lib/python3.10/dist-packages (from requests>=2.23.0->ultralytics==8.0.196) (2023.7.22)\n",
            "Requirement already satisfied: filelock in /usr/local/lib/python3.10/dist-packages (from torch>=1.8.0->ultralytics==8.0.196) (3.14.0)\n",
            "Requirement already satisfied: typing-extensions>=4.8.0 in /usr/local/lib/python3.10/dist-packages (from torch>=1.8.0->ultralytics==8.0.196) (4.11.0)\n",
            "Requirement already satisfied: sympy in /usr/local/lib/python3.10/dist-packages (from torch>=1.8.0->ultralytics==8.0.196) (1.12)\n",
            "Requirement already satisfied: networkx in /usr/local/lib/python3.10/dist-packages (from torch>=1.8.0->ultralytics==8.0.196) (3.3)\n",
            "Requirement already satisfied: jinja2 in /usr/local/lib/python3.10/dist-packages (from torch>=1.8.0->ultralytics==8.0.196) (3.1.4)\n",
            "Requirement already satisfied: fsspec in /usr/local/lib/python3.10/dist-packages (from torch>=1.8.0->ultralytics==8.0.196) (2023.6.0)\n",
            "Requirement already satisfied: nvidia-cuda-nvrtc-cu12==12.1.105 in /usr/local/lib/python3.10/dist-packages (from torch>=1.8.0->ultralytics==8.0.196) (12.1.105)\n",
            "Requirement already satisfied: nvidia-cuda-runtime-cu12==12.1.105 in /usr/local/lib/python3.10/dist-packages (from torch>=1.8.0->ultralytics==8.0.196) (12.1.105)\n",
            "Requirement already satisfied: nvidia-cuda-cupti-cu12==12.1.105 in /usr/local/lib/python3.10/dist-packages (from torch>=1.8.0->ultralytics==8.0.196) (12.1.105)\n",
            "Requirement already satisfied: nvidia-cudnn-cu12==8.9.2.26 in /usr/local/lib/python3.10/dist-packages (from torch>=1.8.0->ultralytics==8.0.196) (8.9.2.26)\n",
            "Requirement already satisfied: nvidia-cublas-cu12==12.1.3.1 in /usr/local/lib/python3.10/dist-packages (from torch>=1.8.0->ultralytics==8.0.196) (12.1.3.1)\n",
            "Requirement already satisfied: nvidia-cufft-cu12==11.0.2.54 in /usr/local/lib/python3.10/dist-packages (from torch>=1.8.0->ultralytics==8.0.196) (11.0.2.54)\n",
            "Requirement already satisfied: nvidia-curand-cu12==10.3.2.106 in /usr/local/lib/python3.10/dist-packages (from torch>=1.8.0->ultralytics==8.0.196) (10.3.2.106)\n",
            "Requirement already satisfied: nvidia-cusolver-cu12==11.4.5.107 in /usr/local/lib/python3.10/dist-packages (from torch>=1.8.0->ultralytics==8.0.196) (11.4.5.107)\n",
            "Requirement already satisfied: nvidia-cusparse-cu12==12.1.0.106 in /usr/local/lib/python3.10/dist-packages (from torch>=1.8.0->ultralytics==8.0.196) (12.1.0.106)\n",
            "Requirement already satisfied: nvidia-nccl-cu12==2.19.3 in /usr/local/lib/python3.10/dist-packages (from torch>=1.8.0->ultralytics==8.0.196) (2.19.3)\n",
            "Requirement already satisfied: nvidia-nvtx-cu12==12.1.105 in /usr/local/lib/python3.10/dist-packages (from torch>=1.8.0->ultralytics==8.0.196) (12.1.105)\n",
            "Requirement already satisfied: triton==2.2.0 in /usr/local/lib/python3.10/dist-packages (from torch>=1.8.0->ultralytics==8.0.196) (2.2.0)\n",
            "Requirement already satisfied: nvidia-nvjitlink-cu12 in /usr/local/lib/python3.10/dist-packages (from nvidia-cusolver-cu12==11.4.5.107->torch>=1.8.0->ultralytics==8.0.196) (12.4.127)\n",
            "Requirement already satisfied: six in /usr/local/lib/python3.10/dist-packages (from cycler>=0.10->matplotlib>=3.3.0->ultralytics==8.0.196) (1.16.0)\n",
            "Requirement already satisfied: MarkupSafe>=2.0 in /usr/local/lib/python3.10/dist-packages (from jinja2->torch>=1.8.0->ultralytics==8.0.196) (2.1.5)\n",
            "Requirement already satisfied: mpmath>=0.19 in /usr/local/lib/python3.10/dist-packages (from sympy->torch>=1.8.0->ultralytics==8.0.196) (1.3.0)\n",
            "Installing collected packages: ultralytics\n",
            "  Attempting uninstall: ultralytics\n",
            "    Found existing installation: ultralytics 8.2.14\n",
            "    Uninstalling ultralytics-8.2.14:\n",
            "      Successfully uninstalled ultralytics-8.2.14\n",
            "Successfully installed ultralytics-8.0.196\n"
          ]
        },
        {
          "output_type": "display_data",
          "data": {
            "application/vnd.colab-display-data+json": {
              "pip_warning": {
                "packages": [
                  "ultralytics"
                ]
              },
              "id": "612a05feaa2646208739ceed9cd7f1a1"
            }
          },
          "metadata": {}
        }
      ]
    },
    {
      "cell_type": "code",
      "source": [],
      "metadata": {
        "id": "Cd9PW03_t2Xi"
      },
      "execution_count": null,
      "outputs": []
    },
    {
      "cell_type": "code",
      "source": [],
      "metadata": {
        "id": "mkJP_BkHt2T2"
      },
      "execution_count": null,
      "outputs": []
    }
  ]
}